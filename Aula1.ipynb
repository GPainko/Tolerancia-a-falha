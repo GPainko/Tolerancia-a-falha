{
  "nbformat": 4,
  "nbformat_minor": 0,
  "metadata": {
    "colab": {
      "provenance": []
    },
    "kernelspec": {
      "name": "python3",
      "display_name": "Python 3"
    },
    "language_info": {
      "name": "python"
    }
  },
  "cells": [
    {
      "cell_type": "markdown",
      "source": [
        "Código referente a aula do dia 05/08/2025"
      ],
      "metadata": {
        "id": "lvvvC3N_Y9Bx"
      }
    },
    {
      "cell_type": "markdown",
      "source": [
        "Exemplo para implementar em python Falha por colapso (crash)"
      ],
      "metadata": {
        "id": "-KmI4z0PbiNc"
      }
    },
    {
      "cell_type": "code",
      "execution_count": 19,
      "metadata": {
        "colab": {
          "base_uri": "https://localhost:8080/"
        },
        "id": "4mq_IAQwXrHs",
        "outputId": "99ac48f6-d4a1-4328-8f99-87275cce3ef7"
      },
      "outputs": [
        {
          "output_type": "stream",
          "name": "stdout",
          "text": [
            "Initial system state:\n",
            "System state:\n",
            "Node 0: Working\n",
            "Node 1: Working\n",
            "Node 2: Working\n",
            "Node 3: Working\n",
            "Node 4: Working\n",
            "Node 1 failed!\n",
            "Node 1 recovered!\n",
            "\n",
            "System state after failure detection and recovery:\n",
            "\n",
            "System state:\n",
            "Node 0: Working\n",
            "Node 1: Working\n",
            "Node 2: Working\n",
            "Node 3: Working\n",
            "Node 4: Working\n"
          ]
        }
      ],
      "source": [
        "import random\n",
        "\n",
        "# Definição da lista de nós\n",
        "num_nodes = 5\n",
        "nodes = [True] * num_nodes # Inicialmente, todos os nós estão funcionando\n",
        "\n",
        "# Função para simular uma falha em um nó aleatório\n",
        "def simulate_failure():\n",
        "  node_to_fail = random.randint(0, num_nodes - 1) # Escolhe aleatoriamente um nó\n",
        "  print(f\"Node {node_to_fail} failed!\") # Simula a falha do nó escolhido\n",
        "  #f\": O prefixo f antes da string indica que estamos usando uma f-string. Isso permite que usemos expressões Python dentro da string, entre chaves {}.\n",
        "  nodes[node_to_fail] = False # Marca o nó como falhado\n",
        "\n",
        "\n",
        "# Função para detectar e recuperar falhas\n",
        "def detect_and_recover():\n",
        "  for i in range(num_nodes):\n",
        "    if not nodes[i]: # Se o nó estiver falhado\n",
        "      print(f\"Node {i} recovered!\") # Simula a recuperação do nó\n",
        "      nodes[i] = True # Marca o nó como recuperado\n",
        "\n",
        "\n",
        "# Função para imprimir o estado atual dos nós\n",
        "def print_system_state():\n",
        "  print(\"System state:\")\n",
        "  for i, node in enumerate(nodes):\n",
        "    print(f\"Node {i}: {'Working' if node else 'Failed'}\")\n",
        "\n",
        "\n",
        "# Simulação de falha, detecção e recuperação de falhas, e impressão do estado inicial\n",
        "print(\"Initial system state:\")\n",
        "print_system_state()\n",
        "\n",
        "simulate_failure()\n",
        "detect_and_recover()\n",
        "\n",
        "print(\"\\nSystem state after failure detection and recovery:\\n\")\n",
        "print_system_state()"
      ]
    },
    {
      "cell_type": "markdown",
      "source": [
        "Exemplo para implementar em python Falha por omissao"
      ],
      "metadata": {
        "id": "ZNPF8aD6a7nz"
      }
    },
    {
      "cell_type": "code",
      "source": [
        "import random\n",
        "\n",
        "# Definição da classe Server\n",
        "class Server:\n",
        "  def __init__(self):\n",
        "    self.working = True # Define o estado inicial do servidor como funcionando\n",
        "\n",
        "  def receive_message(self):\n",
        "    if self.working:\n",
        "      print(\"Server received message.\") # Simula a recepção da mensagem pelo servidor\n",
        "    else:\n",
        "      print(\"Server failed to receive message.\") # Simula a falha do servidor em receber a mensagem\n",
        "\n",
        "  def send_message(self):\n",
        "    if self.working:\n",
        "      print(\"Server sent message.\") # Simula o envio da mensagem pelo servidor\n",
        "    else:\n",
        "      print(\"Server failed to send message.\") # Simula a falha do servidor em enviar a mensagem\n",
        "\n",
        "  def omit_receive(self):\n",
        "    self.working = False # Simula a falha do servidor em receber mensagens\n",
        "\n",
        "  def omit_send(self):\n",
        "    self.working = False # Simula a falha do servidor em enviar mensagens\n",
        "\n",
        "# Função principal\n",
        "if __name__ == \"__main__\":\n",
        "  server = Server() # Cria uma instância do servidor\n",
        "  print(\"Simulating normal operation:\")\n",
        "  server.receive_message() # Simula a recepção de uma mensagem quando o servidor está funcionando normalmente\n",
        "  server.send_message() # Simula o envio de uma mensagem quando o servidor está funcionando normalmente\n",
        "  print(\"\\nSimulating omission failure in receiving:\")\n",
        "  server.omit_receive() # Simula uma falha por omissão de recebimento\n",
        "  server.receive_message() # Simula a tentativa de recepção de uma mensagem após a falha por omissão\n",
        "  print(\"\\nSimulating omission failure in sending:\")\n",
        "  server.omit_send() # Simula uma falha por omissão de envio\n",
        "  server.send_message() # Simula a tentativa de envio de uma mensagem após a falha por omissão"
      ],
      "metadata": {
        "colab": {
          "base_uri": "https://localhost:8080/"
        },
        "id": "MZ86AgJVa910",
        "outputId": "30586e15-3521-4557-96c6-8fd684ac64dc"
      },
      "execution_count": 23,
      "outputs": [
        {
          "output_type": "stream",
          "name": "stdout",
          "text": [
            "Simulating normal operation:\n",
            "Server received message.\n",
            "Server sent message.\n",
            "\n",
            "Simulating omission failure in receiving:\n",
            "Server failed to receive message.\n",
            "\n",
            "Simulating omission failure in sending:\n",
            "Server failed to send message.\n"
          ]
        }
      ]
    },
    {
      "cell_type": "markdown",
      "source": [
        "Exemplo para implementar em python Falha arbitrária"
      ],
      "metadata": {
        "id": "s3ka8_8rbltx"
      }
    },
    {
      "cell_type": "code",
      "source": [
        "import random\n",
        "\n",
        "# Definição da classe Server\n",
        "class Server:\n",
        "  def __init__(self):\n",
        "    self.working = True # Define o estado inicial do servidor como funcionando\n",
        "\n",
        "  def produce_output(self):\n",
        "    if self.working:\n",
        "      if random.random() < 0.2: # Probabilidade de 20% de produzir uma saída incorreta\n",
        "      #A função random.random() retorna um número de ponto flutuante aleatório no intervalo [0.0, 1.0).\n",
        "      #Isso significa que o número gerado estará dentro do intervalo de 0 (inclusive) a 1 (exclusivo),\n",
        "      #ou seja, pode ser qualquer número entre 0 e (mas não incluindo) 1.\n",
        "        print(\"Producing incorrect output.\") # Simula a produção de uma saída incorreta\n",
        "      else:\n",
        "        print(\"Producing correct output.\") # Simula a produção de uma saída correta\n",
        "    else:\n",
        "      print(\"Server failed to produce output.\") # Simula a falha do servidor em produzir uma saída\n",
        "\n",
        "# Função principal\n",
        "if __name__ == \"__main__\":\n",
        "  server = Server() # Cria uma instância do servidor\n",
        "\n",
        "  print(\"Simulating normal operation:\")\n",
        "  # Simula a produção de saídas pelo servidor quando está funcionando normalmente\n",
        "  for i in range(5):\n",
        "    server.produce_output()\n",
        "\n",
        "  print(\"\\nSimulating Byzantine failure:\")\n",
        "  # Simula a falha arbitrária do servidor\n",
        "  server.working = False # Define o servidor como falho\n",
        "  server.produce_output()"
      ],
      "metadata": {
        "colab": {
          "base_uri": "https://localhost:8080/"
        },
        "id": "Bh4YHOrkbp2P",
        "outputId": "9d18ab0e-b7bb-4272-f2cc-c2064241c462"
      },
      "execution_count": 24,
      "outputs": [
        {
          "output_type": "stream",
          "name": "stdout",
          "text": [
            "Simulating normal operation:\n",
            "Producing correct output.\n",
            "Producing correct output.\n",
            "Producing incorrect output.\n",
            "Producing correct output.\n",
            "Producing correct output.\n",
            "\n",
            "Simulating Byzantine failure:\n",
            "Server failed to produce output.\n"
          ]
        }
      ]
    }
  ]
}